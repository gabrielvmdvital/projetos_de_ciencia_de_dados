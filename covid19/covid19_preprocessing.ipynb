{
 "cells": [
  {
   "cell_type": "markdown",
   "metadata": {},
   "source": [
    "O objetivo deste notebook pre-prosessar os dados para serem utilizados para gerar um Dashboard no PowerBI"
   ]
  },
  {
   "cell_type": "markdown",
   "metadata": {},
   "source": [
    "### Importação das bibliotecas"
   ]
  },
  {
   "cell_type": "code",
   "execution_count": 104,
   "metadata": {},
   "outputs": [],
   "source": [
    "import pandas as pd"
   ]
  },
  {
   "cell_type": "markdown",
   "metadata": {},
   "source": [
    "### Vamos realizar a leitura dos dados de covid, dos anos de 2020 até 2024.\n",
    "\n",
    "OBS: Os arquivos vieram fatiados em 9 arquivos do tipo CSV."
   ]
  },
  {
   "cell_type": "code",
   "execution_count": 147,
   "metadata": {},
   "outputs": [],
   "source": [
    "#Leitura dos dados\n",
    "\n",
    "covid_2020_1 = pd.read_csv('HIST_PAINEL_COVIDBR_26jan2024\\HIST_PAINEL_COVIDBR_2020_Parte1_26jan2024.csv', sep=';', parse_dates=True)\n",
    "covid_2020_2 = pd.read_csv('HIST_PAINEL_COVIDBR_26jan2024\\HIST_PAINEL_COVIDBR_2020_Parte2_26jan2024.csv', sep=';', parse_dates=True)\n",
    "covid_2021_1 = pd.read_csv('HIST_PAINEL_COVIDBR_26jan2024\\HIST_PAINEL_COVIDBR_2021_Parte1_26jan2024.csv', sep=';', parse_dates=True)\n",
    "covid_2021_2 = pd.read_csv('HIST_PAINEL_COVIDBR_26jan2024\\HIST_PAINEL_COVIDBR_2021_Parte2_26jan2024.csv', sep=';', parse_dates=True)\n",
    "covid_2022_1 = pd.read_csv('HIST_PAINEL_COVIDBR_26jan2024\\HIST_PAINEL_COVIDBR_2022_Parte1_26jan2024.csv', sep=';', parse_dates=True)\n",
    "covid_2022_2 = pd.read_csv('HIST_PAINEL_COVIDBR_26jan2024\\HIST_PAINEL_COVIDBR_2022_Parte2_26jan2024.csv', sep=';', parse_dates=True)\n",
    "covid_2023_1 = pd.read_csv('HIST_PAINEL_COVIDBR_26jan2024\\HIST_PAINEL_COVIDBR_2023_Parte1_26jan2024.csv', sep=';', parse_dates=True)\n",
    "covid_2023_2 = pd.read_csv('HIST_PAINEL_COVIDBR_26jan2024\\HIST_PAINEL_COVIDBR_2023_Parte2_26jan2024.csv', sep=';', parse_dates=True)\n",
    "covid_2024_1 = pd.read_csv('HIST_PAINEL_COVIDBR_26jan2024\\HIST_PAINEL_COVIDBR_2024_Parte1_26jan2024.csv', sep=';', parse_dates=True)"
   ]
  },
  {
   "cell_type": "markdown",
   "metadata": {},
   "source": [
    "Verificação da quantidade de amostras nos conjuntos"
   ]
  },
  {
   "cell_type": "code",
   "execution_count": 148,
   "metadata": {},
   "outputs": [
    {
     "name": "stdout",
     "output_type": "stream",
     "text": [
      "covid_2020_1: Possui 1574188 linhas e 17 colunas\n",
      "covid_2020_2: Possui 859707 linhas e 17 colunas\n",
      "covid_2021_1: Possui 1017039 linhas e 17 colunas\n",
      "covid_2021_2: Possui 1033896 linhas e 17 colunas\n",
      "covid_2022_1: Possui 1017039 linhas e 17 colunas\n",
      "covid_2022_2: Possui 1033896 linhas e 17 colunas\n",
      "covid_2023_1: Possui 1017039 linhas e 17 colunas\n",
      "covid_2023_2: Possui 1033896 linhas e 17 colunas\n",
      "covid_2024_1: Possui 146094 linhas e 17 colunas\n"
     ]
    }
   ],
   "source": [
    "print(f'covid_2020_1: Possui {covid_2020_1.shape[0]} linhas e {covid_2020_1.shape[1]} colunas')\n",
    "print(f'covid_2020_2: Possui {covid_2020_2.shape[0]} linhas e {covid_2020_2.shape[1]} colunas')\n",
    "print(f'covid_2021_1: Possui {covid_2021_1.shape[0]} linhas e {covid_2021_1.shape[1]} colunas')\n",
    "print(f'covid_2021_2: Possui {covid_2021_2.shape[0]} linhas e {covid_2021_2.shape[1]} colunas')\n",
    "print(f'covid_2022_1: Possui {covid_2022_1.shape[0]} linhas e {covid_2022_1.shape[1]} colunas')\n",
    "print(f'covid_2022_2: Possui {covid_2022_2.shape[0]} linhas e {covid_2022_2.shape[1]} colunas')\n",
    "print(f'covid_2023_1: Possui {covid_2023_1.shape[0]} linhas e {covid_2023_1.shape[1]} colunas')\n",
    "print(f'covid_2023_2: Possui {covid_2023_2.shape[0]} linhas e {covid_2023_2.shape[1]} colunas')\n",
    "print(f'covid_2024_1: Possui {covid_2024_1.shape[0]} linhas e {covid_2024_1.shape[1]} colunas')\n"
   ]
  },
  {
   "cell_type": "markdown",
   "metadata": {},
   "source": [
    "Vamos concatenar os dataframes para gerar um único dataframe contendo todos os dados de 2020 até 2024."
   ]
  },
  {
   "cell_type": "code",
   "execution_count": 150,
   "metadata": {},
   "outputs": [],
   "source": [
    "covid_full_br = pd.concat([covid_2020_1, covid_2020_2, covid_2021_1, covid_2021_2, covid_2022_1, covid_2022_2, covid_2023_1, covid_2023_2, covid_2024_1], ignore_index=True)"
   ]
  },
  {
   "cell_type": "markdown",
   "metadata": {},
   "source": [
    "Vamos checar a nova quantidade de linha e colunas do dataframe"
   ]
  },
  {
   "cell_type": "code",
   "execution_count": 149,
   "metadata": {},
   "outputs": [
    {
     "name": "stdout",
     "output_type": "stream",
     "text": [
      "Novo dataframe completo: Possui 8732794 linhas e 17 colunas\n"
     ]
    }
   ],
   "source": [
    "print(f'Novo dataframe completo: Possui {covid_full_br.shape[0]} linhas e {covid_full_br.shape[1]} colunas')"
   ]
  },
  {
   "cell_type": "markdown",
   "metadata": {},
   "source": [
    "Vamos visualizar os dados 5 primeiros dados do nosso novo dataframe para que possamos ter ideia de como os dados estão distribuidos no inicio do dataframe"
   ]
  },
  {
   "cell_type": "code",
   "execution_count": 151,
   "metadata": {},
   "outputs": [
    {
     "data": {
      "text/html": [
       "<div>\n",
       "<style scoped>\n",
       "    .dataframe tbody tr th:only-of-type {\n",
       "        vertical-align: middle;\n",
       "    }\n",
       "\n",
       "    .dataframe tbody tr th {\n",
       "        vertical-align: top;\n",
       "    }\n",
       "\n",
       "    .dataframe thead th {\n",
       "        text-align: right;\n",
       "    }\n",
       "</style>\n",
       "<table border=\"1\" class=\"dataframe\">\n",
       "  <thead>\n",
       "    <tr style=\"text-align: right;\">\n",
       "      <th></th>\n",
       "      <th>regiao</th>\n",
       "      <th>estado</th>\n",
       "      <th>municipio</th>\n",
       "      <th>coduf</th>\n",
       "      <th>codmun</th>\n",
       "      <th>codRegiaoSaude</th>\n",
       "      <th>nomeRegiaoSaude</th>\n",
       "      <th>data</th>\n",
       "      <th>semanaEpi</th>\n",
       "      <th>populacaoTCU2019</th>\n",
       "      <th>casosAcumulado</th>\n",
       "      <th>casosNovos</th>\n",
       "      <th>obitosAcumulado</th>\n",
       "      <th>obitosNovos</th>\n",
       "      <th>Recuperadosnovos</th>\n",
       "      <th>emAcompanhamentoNovos</th>\n",
       "      <th>interior/metropolitana</th>\n",
       "    </tr>\n",
       "  </thead>\n",
       "  <tbody>\n",
       "    <tr>\n",
       "      <th>0</th>\n",
       "      <td>Brasil</td>\n",
       "      <td>NaN</td>\n",
       "      <td>NaN</td>\n",
       "      <td>76</td>\n",
       "      <td>NaN</td>\n",
       "      <td>NaN</td>\n",
       "      <td>NaN</td>\n",
       "      <td>2020-02-25</td>\n",
       "      <td>9</td>\n",
       "      <td>210147125.0</td>\n",
       "      <td>0.0</td>\n",
       "      <td>0</td>\n",
       "      <td>0</td>\n",
       "      <td>0</td>\n",
       "      <td>0.0</td>\n",
       "      <td>0.0</td>\n",
       "      <td>NaN</td>\n",
       "    </tr>\n",
       "    <tr>\n",
       "      <th>1</th>\n",
       "      <td>Brasil</td>\n",
       "      <td>NaN</td>\n",
       "      <td>NaN</td>\n",
       "      <td>76</td>\n",
       "      <td>NaN</td>\n",
       "      <td>NaN</td>\n",
       "      <td>NaN</td>\n",
       "      <td>2020-02-26</td>\n",
       "      <td>9</td>\n",
       "      <td>210147125.0</td>\n",
       "      <td>1.0</td>\n",
       "      <td>1</td>\n",
       "      <td>0</td>\n",
       "      <td>0</td>\n",
       "      <td>1.0</td>\n",
       "      <td>0.0</td>\n",
       "      <td>NaN</td>\n",
       "    </tr>\n",
       "    <tr>\n",
       "      <th>2</th>\n",
       "      <td>Brasil</td>\n",
       "      <td>NaN</td>\n",
       "      <td>NaN</td>\n",
       "      <td>76</td>\n",
       "      <td>NaN</td>\n",
       "      <td>NaN</td>\n",
       "      <td>NaN</td>\n",
       "      <td>2020-02-27</td>\n",
       "      <td>9</td>\n",
       "      <td>210147125.0</td>\n",
       "      <td>1.0</td>\n",
       "      <td>0</td>\n",
       "      <td>0</td>\n",
       "      <td>0</td>\n",
       "      <td>1.0</td>\n",
       "      <td>0.0</td>\n",
       "      <td>NaN</td>\n",
       "    </tr>\n",
       "    <tr>\n",
       "      <th>3</th>\n",
       "      <td>Brasil</td>\n",
       "      <td>NaN</td>\n",
       "      <td>NaN</td>\n",
       "      <td>76</td>\n",
       "      <td>NaN</td>\n",
       "      <td>NaN</td>\n",
       "      <td>NaN</td>\n",
       "      <td>2020-02-28</td>\n",
       "      <td>9</td>\n",
       "      <td>210147125.0</td>\n",
       "      <td>1.0</td>\n",
       "      <td>0</td>\n",
       "      <td>0</td>\n",
       "      <td>0</td>\n",
       "      <td>0.0</td>\n",
       "      <td>1.0</td>\n",
       "      <td>NaN</td>\n",
       "    </tr>\n",
       "    <tr>\n",
       "      <th>4</th>\n",
       "      <td>Brasil</td>\n",
       "      <td>NaN</td>\n",
       "      <td>NaN</td>\n",
       "      <td>76</td>\n",
       "      <td>NaN</td>\n",
       "      <td>NaN</td>\n",
       "      <td>NaN</td>\n",
       "      <td>2020-02-29</td>\n",
       "      <td>9</td>\n",
       "      <td>210147125.0</td>\n",
       "      <td>2.0</td>\n",
       "      <td>1</td>\n",
       "      <td>0</td>\n",
       "      <td>0</td>\n",
       "      <td>1.0</td>\n",
       "      <td>1.0</td>\n",
       "      <td>NaN</td>\n",
       "    </tr>\n",
       "  </tbody>\n",
       "</table>\n",
       "</div>"
      ],
      "text/plain": [
       "   regiao estado municipio  coduf  codmun  codRegiaoSaude nomeRegiaoSaude  \\\n",
       "0  Brasil    NaN       NaN     76     NaN             NaN             NaN   \n",
       "1  Brasil    NaN       NaN     76     NaN             NaN             NaN   \n",
       "2  Brasil    NaN       NaN     76     NaN             NaN             NaN   \n",
       "3  Brasil    NaN       NaN     76     NaN             NaN             NaN   \n",
       "4  Brasil    NaN       NaN     76     NaN             NaN             NaN   \n",
       "\n",
       "         data  semanaEpi  populacaoTCU2019  casosAcumulado  casosNovos  \\\n",
       "0  2020-02-25          9       210147125.0             0.0           0   \n",
       "1  2020-02-26          9       210147125.0             1.0           1   \n",
       "2  2020-02-27          9       210147125.0             1.0           0   \n",
       "3  2020-02-28          9       210147125.0             1.0           0   \n",
       "4  2020-02-29          9       210147125.0             2.0           1   \n",
       "\n",
       "   obitosAcumulado  obitosNovos  Recuperadosnovos  emAcompanhamentoNovos  \\\n",
       "0                0            0               0.0                    0.0   \n",
       "1                0            0               1.0                    0.0   \n",
       "2                0            0               1.0                    0.0   \n",
       "3                0            0               0.0                    1.0   \n",
       "4                0            0               1.0                    1.0   \n",
       "\n",
       "   interior/metropolitana  \n",
       "0                     NaN  \n",
       "1                     NaN  \n",
       "2                     NaN  \n",
       "3                     NaN  \n",
       "4                     NaN  "
      ]
     },
     "execution_count": 151,
     "metadata": {},
     "output_type": "execute_result"
    }
   ],
   "source": [
    "covid_full_br.head()"
   ]
  },
  {
   "cell_type": "markdown",
   "metadata": {},
   "source": [
    "Vamos visualizar os dados 5 primeiros dados do nosso novo dataframe para que possamos ter ideia de como os dados estão distribuidos no fim do dataframe"
   ]
  },
  {
   "cell_type": "code",
   "execution_count": 152,
   "metadata": {},
   "outputs": [
    {
     "data": {
      "text/html": [
       "<div>\n",
       "<style scoped>\n",
       "    .dataframe tbody tr th:only-of-type {\n",
       "        vertical-align: middle;\n",
       "    }\n",
       "\n",
       "    .dataframe tbody tr th {\n",
       "        vertical-align: top;\n",
       "    }\n",
       "\n",
       "    .dataframe thead th {\n",
       "        text-align: right;\n",
       "    }\n",
       "</style>\n",
       "<table border=\"1\" class=\"dataframe\">\n",
       "  <thead>\n",
       "    <tr style=\"text-align: right;\">\n",
       "      <th></th>\n",
       "      <th>regiao</th>\n",
       "      <th>estado</th>\n",
       "      <th>municipio</th>\n",
       "      <th>coduf</th>\n",
       "      <th>codmun</th>\n",
       "      <th>codRegiaoSaude</th>\n",
       "      <th>nomeRegiaoSaude</th>\n",
       "      <th>data</th>\n",
       "      <th>semanaEpi</th>\n",
       "      <th>populacaoTCU2019</th>\n",
       "      <th>casosAcumulado</th>\n",
       "      <th>casosNovos</th>\n",
       "      <th>obitosAcumulado</th>\n",
       "      <th>obitosNovos</th>\n",
       "      <th>Recuperadosnovos</th>\n",
       "      <th>emAcompanhamentoNovos</th>\n",
       "      <th>interior/metropolitana</th>\n",
       "    </tr>\n",
       "  </thead>\n",
       "  <tbody>\n",
       "    <tr>\n",
       "      <th>8732789</th>\n",
       "      <td>Centro-Oeste</td>\n",
       "      <td>DF</td>\n",
       "      <td>Brasília</td>\n",
       "      <td>53</td>\n",
       "      <td>530010.0</td>\n",
       "      <td>53001.0</td>\n",
       "      <td>DISTRITO FEDERAL</td>\n",
       "      <td>2024-01-22</td>\n",
       "      <td>4</td>\n",
       "      <td>3015268.0</td>\n",
       "      <td>928241.0</td>\n",
       "      <td>0</td>\n",
       "      <td>11952</td>\n",
       "      <td>0</td>\n",
       "      <td>NaN</td>\n",
       "      <td>NaN</td>\n",
       "      <td>1.0</td>\n",
       "    </tr>\n",
       "    <tr>\n",
       "      <th>8732790</th>\n",
       "      <td>Centro-Oeste</td>\n",
       "      <td>DF</td>\n",
       "      <td>Brasília</td>\n",
       "      <td>53</td>\n",
       "      <td>530010.0</td>\n",
       "      <td>53001.0</td>\n",
       "      <td>DISTRITO FEDERAL</td>\n",
       "      <td>2024-01-23</td>\n",
       "      <td>4</td>\n",
       "      <td>3015268.0</td>\n",
       "      <td>928241.0</td>\n",
       "      <td>0</td>\n",
       "      <td>11952</td>\n",
       "      <td>0</td>\n",
       "      <td>NaN</td>\n",
       "      <td>NaN</td>\n",
       "      <td>1.0</td>\n",
       "    </tr>\n",
       "    <tr>\n",
       "      <th>8732791</th>\n",
       "      <td>Centro-Oeste</td>\n",
       "      <td>DF</td>\n",
       "      <td>Brasília</td>\n",
       "      <td>53</td>\n",
       "      <td>530010.0</td>\n",
       "      <td>53001.0</td>\n",
       "      <td>DISTRITO FEDERAL</td>\n",
       "      <td>2024-01-24</td>\n",
       "      <td>4</td>\n",
       "      <td>3015268.0</td>\n",
       "      <td>928241.0</td>\n",
       "      <td>0</td>\n",
       "      <td>11952</td>\n",
       "      <td>0</td>\n",
       "      <td>NaN</td>\n",
       "      <td>NaN</td>\n",
       "      <td>1.0</td>\n",
       "    </tr>\n",
       "    <tr>\n",
       "      <th>8732792</th>\n",
       "      <td>Centro-Oeste</td>\n",
       "      <td>DF</td>\n",
       "      <td>Brasília</td>\n",
       "      <td>53</td>\n",
       "      <td>530010.0</td>\n",
       "      <td>53001.0</td>\n",
       "      <td>DISTRITO FEDERAL</td>\n",
       "      <td>2024-01-25</td>\n",
       "      <td>4</td>\n",
       "      <td>3015268.0</td>\n",
       "      <td>928241.0</td>\n",
       "      <td>0</td>\n",
       "      <td>11952</td>\n",
       "      <td>0</td>\n",
       "      <td>NaN</td>\n",
       "      <td>NaN</td>\n",
       "      <td>1.0</td>\n",
       "    </tr>\n",
       "    <tr>\n",
       "      <th>8732793</th>\n",
       "      <td>Centro-Oeste</td>\n",
       "      <td>DF</td>\n",
       "      <td>Brasília</td>\n",
       "      <td>53</td>\n",
       "      <td>530010.0</td>\n",
       "      <td>53001.0</td>\n",
       "      <td>DISTRITO FEDERAL</td>\n",
       "      <td>2024-01-26</td>\n",
       "      <td>4</td>\n",
       "      <td>3015268.0</td>\n",
       "      <td>928241.0</td>\n",
       "      <td>0</td>\n",
       "      <td>11952</td>\n",
       "      <td>0</td>\n",
       "      <td>NaN</td>\n",
       "      <td>NaN</td>\n",
       "      <td>1.0</td>\n",
       "    </tr>\n",
       "  </tbody>\n",
       "</table>\n",
       "</div>"
      ],
      "text/plain": [
       "               regiao estado municipio  coduf    codmun  codRegiaoSaude  \\\n",
       "8732789  Centro-Oeste     DF  Brasília     53  530010.0         53001.0   \n",
       "8732790  Centro-Oeste     DF  Brasília     53  530010.0         53001.0   \n",
       "8732791  Centro-Oeste     DF  Brasília     53  530010.0         53001.0   \n",
       "8732792  Centro-Oeste     DF  Brasília     53  530010.0         53001.0   \n",
       "8732793  Centro-Oeste     DF  Brasília     53  530010.0         53001.0   \n",
       "\n",
       "          nomeRegiaoSaude        data  semanaEpi  populacaoTCU2019  \\\n",
       "8732789  DISTRITO FEDERAL  2024-01-22          4         3015268.0   \n",
       "8732790  DISTRITO FEDERAL  2024-01-23          4         3015268.0   \n",
       "8732791  DISTRITO FEDERAL  2024-01-24          4         3015268.0   \n",
       "8732792  DISTRITO FEDERAL  2024-01-25          4         3015268.0   \n",
       "8732793  DISTRITO FEDERAL  2024-01-26          4         3015268.0   \n",
       "\n",
       "         casosAcumulado  casosNovos  obitosAcumulado  obitosNovos  \\\n",
       "8732789        928241.0           0            11952            0   \n",
       "8732790        928241.0           0            11952            0   \n",
       "8732791        928241.0           0            11952            0   \n",
       "8732792        928241.0           0            11952            0   \n",
       "8732793        928241.0           0            11952            0   \n",
       "\n",
       "         Recuperadosnovos  emAcompanhamentoNovos  interior/metropolitana  \n",
       "8732789               NaN                    NaN                     1.0  \n",
       "8732790               NaN                    NaN                     1.0  \n",
       "8732791               NaN                    NaN                     1.0  \n",
       "8732792               NaN                    NaN                     1.0  \n",
       "8732793               NaN                    NaN                     1.0  "
      ]
     },
     "execution_count": 152,
     "metadata": {},
     "output_type": "execute_result"
    }
   ],
   "source": [
    "covid_full_br.tail()"
   ]
  },
  {
   "cell_type": "markdown",
   "metadata": {},
   "source": [
    "Vamos pegar algumas informações basicas do dataframe utilizando o método .info() do Pandas"
   ]
  },
  {
   "cell_type": "code",
   "execution_count": 153,
   "metadata": {},
   "outputs": [
    {
     "name": "stdout",
     "output_type": "stream",
     "text": [
      "<class 'pandas.core.frame.DataFrame'>\n",
      "RangeIndex: 8732794 entries, 0 to 8732793\n",
      "Data columns (total 17 columns):\n",
      " #   Column                  Dtype  \n",
      "---  ------                  -----  \n",
      " 0   regiao                  object \n",
      " 1   estado                  object \n",
      " 2   municipio               object \n",
      " 3   coduf                   int64  \n",
      " 4   codmun                  float64\n",
      " 5   codRegiaoSaude          float64\n",
      " 6   nomeRegiaoSaude         object \n",
      " 7   data                    object \n",
      " 8   semanaEpi               int64  \n",
      " 9   populacaoTCU2019        float64\n",
      " 10  casosAcumulado          float64\n",
      " 11  casosNovos              int64  \n",
      " 12  obitosAcumulado         int64  \n",
      " 13  obitosNovos             int64  \n",
      " 14  Recuperadosnovos        float64\n",
      " 15  emAcompanhamentoNovos   float64\n",
      " 16  interior/metropolitana  float64\n",
      "dtypes: float64(7), int64(5), object(5)\n",
      "memory usage: 1.1+ GB\n"
     ]
    }
   ],
   "source": [
    "covid_full_br.info()"
   ]
  },
  {
   "cell_type": "markdown",
   "metadata": {},
   "source": [
    "Agora temos ideia de quais colunas são do tipo númerico e quais são do tipo texto ou 'object'. Note que a coluna de data está como object e vamos precisar converter para o tipo datetime."
   ]
  },
  {
   "cell_type": "code",
   "execution_count": 154,
   "metadata": {},
   "outputs": [],
   "source": [
    "covid_full_br['data'] = pd.to_datetime(covid_full_br['data'], format= '%Y-%m-%d')"
   ]
  },
  {
   "cell_type": "markdown",
   "metadata": {},
   "source": [
    "Vamos checar se os tipos das colunas estão de acordo com o que se espera."
   ]
  },
  {
   "cell_type": "code",
   "execution_count": 169,
   "metadata": {},
   "outputs": [
    {
     "data": {
      "text/plain": [
       "regiao                            object\n",
       "estado                            object\n",
       "municipio                         object\n",
       "coduf                              int64\n",
       "codmun                           float64\n",
       "codRegiaoSaude                   float64\n",
       "nomeRegiaoSaude                   object\n",
       "data                      datetime64[ns]\n",
       "semanaEpi                          int64\n",
       "populacaoTCU2019                 float64\n",
       "casosAcumulado                   float64\n",
       "casosNovos                         int64\n",
       "obitosAcumulado                    int64\n",
       "obitosNovos                        int64\n",
       "Recuperadosnovos                 float64\n",
       "emAcompanhamentoNovos            float64\n",
       "interior/metropolitana           float64\n",
       "dtype: object"
      ]
     },
     "execution_count": 169,
     "metadata": {},
     "output_type": "execute_result"
    }
   ],
   "source": [
    "covid_full_br.dtypes"
   ]
  },
  {
   "cell_type": "markdown",
   "metadata": {},
   "source": [
    "Vamos verificar a quantidade de valores ausentes por coluna no dataset em porcentagem"
   ]
  },
  {
   "cell_type": "code",
   "execution_count": 155,
   "metadata": {},
   "outputs": [
    {
     "data": {
      "text/plain": [
       "emAcompanhamentoNovos     99.981861\n",
       "Recuperadosnovos          99.981861\n",
       "interior/metropolitana     0.881894\n",
       "municipio                  0.881894\n",
       "codRegiaoSaude             0.881894\n",
       "nomeRegiaoSaude            0.881894\n",
       "codmun                     0.508199\n",
       "populacaoTCU2019           0.373695\n",
       "estado                     0.018150\n",
       "obitosAcumulado            0.000000\n",
       "obitosNovos                0.000000\n",
       "regiao                     0.000000\n",
       "casosNovos                 0.000000\n",
       "casosAcumulado             0.000000\n",
       "data                       0.000000\n",
       "coduf                      0.000000\n",
       "semanaEpi                  0.000000\n",
       "dtype: float64"
      ]
     },
     "execution_count": 155,
     "metadata": {},
     "output_type": "execute_result"
    }
   ],
   "source": [
    "(covid_full_br.isna().sum()/covid_full_br.shape[0]*100).sort_values(ascending=False)"
   ]
  },
  {
   "cell_type": "markdown",
   "metadata": {},
   "source": [
    "Observe que as colunas emAcompanhamentoNovos e Recuperadosnovos possuem mais de 99.9% de dados ausentes, então não teremos problemas em eliminar essas colunsa do nosso dataframe, para que possamos fazer analises mais acertivas."
   ]
  },
  {
   "cell_type": "code",
   "execution_count": 156,
   "metadata": {},
   "outputs": [],
   "source": [
    "covid_full_br_tratado = covid_full_br.drop(columns=['emAcompanhamentoNovos', 'Recuperadosnovos'])"
   ]
  },
  {
   "cell_type": "code",
   "execution_count": 158,
   "metadata": {},
   "outputs": [
    {
     "data": {
      "text/plain": [
       "municipio                 0.881894\n",
       "codRegiaoSaude            0.881894\n",
       "nomeRegiaoSaude           0.881894\n",
       "interior/metropolitana    0.881894\n",
       "codmun                    0.508199\n",
       "populacaoTCU2019          0.373695\n",
       "estado                    0.018150\n",
       "regiao                    0.000000\n",
       "coduf                     0.000000\n",
       "data                      0.000000\n",
       "semanaEpi                 0.000000\n",
       "casosAcumulado            0.000000\n",
       "casosNovos                0.000000\n",
       "obitosAcumulado           0.000000\n",
       "obitosNovos               0.000000\n",
       "dtype: float64"
      ]
     },
     "execution_count": 158,
     "metadata": {},
     "output_type": "execute_result"
    }
   ],
   "source": [
    "(covid_full_br_tratado.isna().sum()/covid_full_br_tratado.shape[0]*100).sort_values(ascending=False)"
   ]
  },
  {
   "cell_type": "markdown",
   "metadata": {},
   "source": [
    "Note que no nosso dataset ainda tem 7 colunas com dados faltando, como os valores são muito menor que 1% vamos eliminar essas linhas com algum dado ausente."
   ]
  },
  {
   "cell_type": "code",
   "execution_count": 159,
   "metadata": {},
   "outputs": [],
   "source": [
    "covid_full_br_tratado = covid_full_br_tratado.dropna()"
   ]
  },
  {
   "cell_type": "markdown",
   "metadata": {},
   "source": [
    "Vamos verificar agora como nosso realmente está sem dados ausentes"
   ]
  },
  {
   "cell_type": "code",
   "execution_count": 160,
   "metadata": {},
   "outputs": [
    {
     "data": {
      "text/plain": [
       "regiao                    0.0\n",
       "estado                    0.0\n",
       "municipio                 0.0\n",
       "coduf                     0.0\n",
       "codmun                    0.0\n",
       "codRegiaoSaude            0.0\n",
       "nomeRegiaoSaude           0.0\n",
       "data                      0.0\n",
       "semanaEpi                 0.0\n",
       "populacaoTCU2019          0.0\n",
       "casosAcumulado            0.0\n",
       "casosNovos                0.0\n",
       "obitosAcumulado           0.0\n",
       "obitosNovos               0.0\n",
       "interior/metropolitana    0.0\n",
       "dtype: float64"
      ]
     },
     "execution_count": 160,
     "metadata": {},
     "output_type": "execute_result"
    }
   ],
   "source": [
    "(covid_full_br_tratado.isna().sum()/covid_full_br_tratado.shape[0]*100).sort_values(ascending=False)"
   ]
  },
  {
   "cell_type": "markdown",
   "metadata": {},
   "source": [
    "Vamos verificar as novas quantidades de linhas e colunas"
   ]
  },
  {
   "cell_type": "code",
   "execution_count": 161,
   "metadata": {},
   "outputs": [
    {
     "name": "stdout",
     "output_type": "stream",
     "text": [
      "Novo dataframe completo: Possui 8655780 linhas e 15 colunas\n"
     ]
    }
   ],
   "source": [
    "print(f'Novo dataframe completo: Possui {covid_full_br_tratado.shape[0]} linhas e {covid_full_br_tratado.shape[1]} colunas')"
   ]
  },
  {
   "cell_type": "markdown",
   "metadata": {},
   "source": [
    "Vamos realizar o mapeamento das Siglas do estado para o nome completo do estado, pois assim evitaremos algum tipo de erro, pois as siglas podem causar confusão na hora de realizar plots de dados de geolocalização, etc."
   ]
  },
  {
   "cell_type": "code",
   "execution_count": 163,
   "metadata": {},
   "outputs": [],
   "source": [
    "# Função utilizada para realizar o mapeamento da sigla no nome completo do estado da federação.\n",
    "def sigla_to_full_name(sigla: str) -> str:\n",
    "    estados_brasil = {\n",
    "        \"AC\": \"Acre\",\n",
    "        \"AL\": \"Alagoas\",\n",
    "        \"AP\": \"Amapá\",\n",
    "        \"AM\": \"Amazonas\",\n",
    "        \"BA\": \"Bahia\",\n",
    "        \"CE\": \"Ceará\",\n",
    "        \"DF\": \"Distrito Federal\",\n",
    "        \"ES\": \"Espírito Santo\",\n",
    "        \"GO\": \"Goiás\",\n",
    "        \"MA\": \"Maranhão\",\n",
    "        \"MT\": \"Mato Grosso\",\n",
    "        \"MS\": \"Mato Grosso do Sul\",\n",
    "        \"MG\": \"Minas Gerais\",\n",
    "        \"PA\": \"Pará\",\n",
    "        \"PB\": \"Paraíba\",\n",
    "        \"PR\": \"Paraná\",\n",
    "        \"PE\": \"Pernambuco\",\n",
    "        \"PI\": \"Piauí\",\n",
    "        \"RJ\": \"Rio de Janeiro\",\n",
    "        \"RN\": \"Rio Grande do Norte\",\n",
    "        \"RS\": \"Rio Grande do Sul\",\n",
    "        \"RO\": \"Rondônia\",\n",
    "        \"RR\": \"Roraima\",\n",
    "        \"SC\": \"Santa Catarina\",\n",
    "        \"SP\": \"São Paulo\",\n",
    "        \"SE\": \"Sergipe\",\n",
    "        \"TO\": \"Tocantins\"\n",
    "    }\n",
    "\n",
    "    return estados_brasil[sigla]\n",
    "\n"
   ]
  },
  {
   "cell_type": "markdown",
   "metadata": {},
   "source": [
    "Para realizar essa conversão de sigla para nome completo, vamos utilziar o metódo apply() do pandas."
   ]
  },
  {
   "cell_type": "code",
   "execution_count": 165,
   "metadata": {},
   "outputs": [],
   "source": [
    "covid_full_br_tratado['estado'] = covid_full_br_tratado['estado'].apply(lambda sigla: sigla_to_full_name(sigla))"
   ]
  },
  {
   "cell_type": "markdown",
   "metadata": {},
   "source": [
    "Note que a função foi aplicada e o mapeamento foi realizado com sucesso."
   ]
  },
  {
   "cell_type": "code",
   "execution_count": 167,
   "metadata": {},
   "outputs": [
    {
     "data": {
      "text/html": [
       "<div>\n",
       "<style scoped>\n",
       "    .dataframe tbody tr th:only-of-type {\n",
       "        vertical-align: middle;\n",
       "    }\n",
       "\n",
       "    .dataframe tbody tr th {\n",
       "        vertical-align: top;\n",
       "    }\n",
       "\n",
       "    .dataframe thead th {\n",
       "        text-align: right;\n",
       "    }\n",
       "</style>\n",
       "<table border=\"1\" class=\"dataframe\">\n",
       "  <thead>\n",
       "    <tr style=\"text-align: right;\">\n",
       "      <th></th>\n",
       "      <th>regiao</th>\n",
       "      <th>estado</th>\n",
       "      <th>municipio</th>\n",
       "      <th>coduf</th>\n",
       "      <th>codmun</th>\n",
       "      <th>codRegiaoSaude</th>\n",
       "      <th>nomeRegiaoSaude</th>\n",
       "      <th>data</th>\n",
       "      <th>semanaEpi</th>\n",
       "      <th>populacaoTCU2019</th>\n",
       "      <th>casosAcumulado</th>\n",
       "      <th>casosNovos</th>\n",
       "      <th>obitosAcumulado</th>\n",
       "      <th>obitosNovos</th>\n",
       "      <th>interior/metropolitana</th>\n",
       "    </tr>\n",
       "  </thead>\n",
       "  <tbody>\n",
       "    <tr>\n",
       "      <th>4551</th>\n",
       "      <td>Norte</td>\n",
       "      <td>Rondônia</td>\n",
       "      <td>Alta Floresta D'Oeste</td>\n",
       "      <td>11</td>\n",
       "      <td>110001.0</td>\n",
       "      <td>11005.0</td>\n",
       "      <td>ZONA DA MATA</td>\n",
       "      <td>2020-03-27</td>\n",
       "      <td>13</td>\n",
       "      <td>22945.0</td>\n",
       "      <td>0.0</td>\n",
       "      <td>0</td>\n",
       "      <td>0</td>\n",
       "      <td>0</td>\n",
       "      <td>0.0</td>\n",
       "    </tr>\n",
       "    <tr>\n",
       "      <th>4552</th>\n",
       "      <td>Norte</td>\n",
       "      <td>Rondônia</td>\n",
       "      <td>Alta Floresta D'Oeste</td>\n",
       "      <td>11</td>\n",
       "      <td>110001.0</td>\n",
       "      <td>11005.0</td>\n",
       "      <td>ZONA DA MATA</td>\n",
       "      <td>2020-03-28</td>\n",
       "      <td>13</td>\n",
       "      <td>22945.0</td>\n",
       "      <td>0.0</td>\n",
       "      <td>0</td>\n",
       "      <td>0</td>\n",
       "      <td>0</td>\n",
       "      <td>0.0</td>\n",
       "    </tr>\n",
       "    <tr>\n",
       "      <th>4553</th>\n",
       "      <td>Norte</td>\n",
       "      <td>Rondônia</td>\n",
       "      <td>Alta Floresta D'Oeste</td>\n",
       "      <td>11</td>\n",
       "      <td>110001.0</td>\n",
       "      <td>11005.0</td>\n",
       "      <td>ZONA DA MATA</td>\n",
       "      <td>2020-03-29</td>\n",
       "      <td>14</td>\n",
       "      <td>22945.0</td>\n",
       "      <td>0.0</td>\n",
       "      <td>0</td>\n",
       "      <td>0</td>\n",
       "      <td>0</td>\n",
       "      <td>0.0</td>\n",
       "    </tr>\n",
       "    <tr>\n",
       "      <th>4554</th>\n",
       "      <td>Norte</td>\n",
       "      <td>Rondônia</td>\n",
       "      <td>Alta Floresta D'Oeste</td>\n",
       "      <td>11</td>\n",
       "      <td>110001.0</td>\n",
       "      <td>11005.0</td>\n",
       "      <td>ZONA DA MATA</td>\n",
       "      <td>2020-03-30</td>\n",
       "      <td>14</td>\n",
       "      <td>22945.0</td>\n",
       "      <td>0.0</td>\n",
       "      <td>0</td>\n",
       "      <td>0</td>\n",
       "      <td>0</td>\n",
       "      <td>0.0</td>\n",
       "    </tr>\n",
       "    <tr>\n",
       "      <th>4555</th>\n",
       "      <td>Norte</td>\n",
       "      <td>Rondônia</td>\n",
       "      <td>Alta Floresta D'Oeste</td>\n",
       "      <td>11</td>\n",
       "      <td>110001.0</td>\n",
       "      <td>11005.0</td>\n",
       "      <td>ZONA DA MATA</td>\n",
       "      <td>2020-03-31</td>\n",
       "      <td>14</td>\n",
       "      <td>22945.0</td>\n",
       "      <td>0.0</td>\n",
       "      <td>0</td>\n",
       "      <td>0</td>\n",
       "      <td>0</td>\n",
       "      <td>0.0</td>\n",
       "    </tr>\n",
       "  </tbody>\n",
       "</table>\n",
       "</div>"
      ],
      "text/plain": [
       "     regiao    estado              municipio  coduf    codmun  codRegiaoSaude  \\\n",
       "4551  Norte  Rondônia  Alta Floresta D'Oeste     11  110001.0         11005.0   \n",
       "4552  Norte  Rondônia  Alta Floresta D'Oeste     11  110001.0         11005.0   \n",
       "4553  Norte  Rondônia  Alta Floresta D'Oeste     11  110001.0         11005.0   \n",
       "4554  Norte  Rondônia  Alta Floresta D'Oeste     11  110001.0         11005.0   \n",
       "4555  Norte  Rondônia  Alta Floresta D'Oeste     11  110001.0         11005.0   \n",
       "\n",
       "     nomeRegiaoSaude       data  semanaEpi  populacaoTCU2019  casosAcumulado  \\\n",
       "4551    ZONA DA MATA 2020-03-27         13           22945.0             0.0   \n",
       "4552    ZONA DA MATA 2020-03-28         13           22945.0             0.0   \n",
       "4553    ZONA DA MATA 2020-03-29         14           22945.0             0.0   \n",
       "4554    ZONA DA MATA 2020-03-30         14           22945.0             0.0   \n",
       "4555    ZONA DA MATA 2020-03-31         14           22945.0             0.0   \n",
       "\n",
       "      casosNovos  obitosAcumulado  obitosNovos  interior/metropolitana  \n",
       "4551           0                0            0                     0.0  \n",
       "4552           0                0            0                     0.0  \n",
       "4553           0                0            0                     0.0  \n",
       "4554           0                0            0                     0.0  \n",
       "4555           0                0            0                     0.0  "
      ]
     },
     "execution_count": 167,
     "metadata": {},
     "output_type": "execute_result"
    }
   ],
   "source": [
    "covid_full_br_tratado.head()"
   ]
  },
  {
   "cell_type": "markdown",
   "metadata": {},
   "source": [
    "### Vamos agora salvar nossa base de dados tratada e pronto para ser usada no PowerBI ou em qualquer outra ferramente de criação de Dashboards"
   ]
  },
  {
   "cell_type": "code",
   "execution_count": 170,
   "metadata": {},
   "outputs": [],
   "source": [
    "covid_full_br_tratado.to_csv('historico_covid_br_tratado_2020_2024.csv', index=False)"
   ]
  }
 ],
 "metadata": {
  "kernelspec": {
   "display_name": "Python 3",
   "language": "python",
   "name": "python3"
  },
  "language_info": {
   "codemirror_mode": {
    "name": "ipython",
    "version": 3
   },
   "file_extension": ".py",
   "mimetype": "text/x-python",
   "name": "python",
   "nbconvert_exporter": "python",
   "pygments_lexer": "ipython3",
   "version": "3.11.4"
  }
 },
 "nbformat": 4,
 "nbformat_minor": 2
}
